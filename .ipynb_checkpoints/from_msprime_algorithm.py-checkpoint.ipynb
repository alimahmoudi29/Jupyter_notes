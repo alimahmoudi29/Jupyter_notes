{
 "cells": [
  {
   "cell_type": "code",
   "execution_count": 1,
   "metadata": {
    "slideshow": {
     "slide_type": "slide"
    }
   },
   "outputs": [],
   "source": [
    "class Segment(object):\n",
    "    \"\"\"\n",
    "    A class representing a single segment. Each segment has a left\n",
    "    and right, denoting the loci over which it spans, a node and a\n",
    "    next, giving the next in the chain.\n",
    "    \"\"\"\n",
    "    def __init__(self, index):\n",
    "        self.left = None\n",
    "        self.right = None\n",
    "        self.node = None\n",
    "        self.prev = None\n",
    "        self.next = None\n",
    "        self.population = None\n",
    "        self.index = index\n",
    "\n",
    "    def __str__(self):\n",
    "        s = \"({0}:{1}-{2}->{3}: prev={4} next={5})\".format(\n",
    "            self.index, self.left, self.right, self.node, repr(self.prev),\n",
    "            repr(self.next))\n",
    "        print(\"reprt is %s\" %s)\n",
    "        return s\n",
    "    #Q# what is this for??\n",
    "    def __lt__(self, other):\n",
    "        return ((self.left, self.right, self.population, self.node)\n",
    "                < (other.left, other.right, other.population, self.node))"
   ]
  },
  {
   "cell_type": "code",
   "execution_count": 2,
   "metadata": {
    "slideshow": {
     "slide_type": "slide"
    }
   },
   "outputs": [
    {
     "name": "stdout",
     "output_type": "stream",
     "text": [
      "reprt is (0:0-3->1: prev=None next=0)\n",
      "reprt is (0:5-10->1: prev=None next=1)\n"
     ]
    },
    {
     "data": {
      "text/plain": [
       "True"
      ]
     },
     "execution_count": 2,
     "metadata": {},
     "output_type": "execute_result"
    }
   ],
   "source": [
    "s = Segment(0)\n",
    "\n",
    "s.left=0 ;s.right = 3; s.node = 1; s.population = 0 ;s.prev = None; s.next = 0\n",
    "\n",
    "s1 = Segment(0)\n",
    "s1.left=5 ;s1.right = 10; s1.node = 1; s1.population = 0 ;s1.prev = None; s1.next = 1\n",
    "\n",
    "\n",
    "# s1= Segment(2)\n",
    "s.__str__()\n",
    "s1.__str__()\n",
    "s.__lt__(s1)"
   ]
  },
  {
   "cell_type": "markdown",
   "metadata": {},
   "source": [
    "# Fenwick algorithm  or  Binary Indexed Tree\n",
    "\n",
    "Great explanation  found at: \n",
    "https://www.geeksforgeeks.org/binary-indexed-tree-or-fenwick-tree-2/\n",
    "\n",
    "Youtube video:\n",
    "https://www.youtube.com/watch?v=v_wj_mOAlig\n"
   ]
  },
  {
   "cell_type": "code",
   "execution_count": 20,
   "metadata": {},
   "outputs": [
    {
     "name": "stdout",
     "output_type": "stream",
     "text": [
      "[2, 1, 1, 3, 2, 3, 4, 5, 6, 7, 8, 9]\n",
      "Sum of elements in arr[0..5] is 12\n",
      "Sum of elements in arr[0..5] after update is 18\n"
     ]
    }
   ],
   "source": [
    " # Returns sum of arr[0..index]. This function assumes \n",
    "# that the array is preprocessed and partial sums of \n",
    "# array elements are stored in BITree[]. \n",
    "def getsum(BITTree,i): \n",
    "    s = 0 #initialize result \n",
    "  \n",
    "    # index in BITree[] is 1 more than the index in arr[] \n",
    "    i = i+1\n",
    "    # Traverse ancestors of BITree[index] \n",
    "    while i > 0: \n",
    "        # Add current element of BITree to sum \n",
    "        s += BITTree[i] \n",
    "        # Move index to parent node in getSum View \n",
    "        i -= i & (-i) \n",
    "    return s \n",
    "# Updates a node in Binary Index Tree (BITree) at given index \n",
    "# in BITree. The given value 'val' is added to BITree[i] and \n",
    "# all of its ancestors in tree. \n",
    "def updatebit(BITTree , n , i ,v): \n",
    "      # index in BITree[] is 1 more than the index in arr[] \n",
    "    i += 1\n",
    "    # Traverse all ancestors and add 'val' \n",
    "    while i <= n: \n",
    "        # Add 'val' to current node of BI Tree \n",
    "        BITTree[i] += v \n",
    "        # Update index to that of parent in update View \n",
    "        i += i & (-i)  \n",
    "# Constructs and returns a Binary Indexed Tree for given \n",
    "# array of size n. \n",
    "def construct(arr, n): \n",
    "    # Create and initialize BITree[] as 0 \n",
    "    BITTree = [0]*(n+1) \n",
    "    # Store the actual values in BITree[] using update() \n",
    "    for i in range(n): \n",
    "        updatebit(BITTree, n, i, arr[i]) \n",
    "  \n",
    "    # Uncomment below lines to see contents of BITree[] \n",
    "    #for i in range(1,n+1): \n",
    "    #     print BITTree[i], \n",
    "    return BITTree \n",
    "  \n",
    "  \n",
    "# Driver code to test above methods \n",
    "freq = [2, 1, 1, 3, 2, 3, 4, 5, 6, 7, 8, 9] \n",
    "print(freq)\n",
    "BITTree = construct(freq,len(freq)) \n",
    "print(\"Sum of elements in arr[0..5] is \" + str(getsum(BITTree,5))) \n",
    "# freq[3] += 6\n",
    "updatebit(BITTree, len(freq), 3, 6) \n",
    "print(\"Sum of elements in arr[0..5]\"+\n",
    "                    \" after update is \" + str(getsum(BITTree,5))) \n",
    "\n",
    "\n",
    "  \n",
    "# This code is contributed by Raju Varshney"
   ]
  },
  {
   "cell_type": "code",
   "execution_count": 30,
   "metadata": {},
   "outputs": [
    {
     "name": "stdout",
     "output_type": "stream",
     "text": [
      "Sum of elements in arr[0..5] is 12\n",
      "Sum of elements in arr[0..5] is 18\n"
     ]
    }
   ],
   "source": [
    "# my implementation of Binary indexed tree: \n",
    "\n",
    "def sum_BIT(BITree, index):\n",
    "    # index in BIT is 1 more than array , we dont care about index 0 in BITree\n",
    "    index = index + 1\n",
    "    s=0\n",
    "    while (index>0):\n",
    "        s += BITree[index]\n",
    "        index -= (index & (-index))#  remove the last set bit, \"up and left\" in explanation.\n",
    "    return s\n",
    "\n",
    "def ADD(BITree,n, index, val):\n",
    "    '''\n",
    "    add val to index and update the BITree , n is the length of the array\n",
    "    '''\n",
    "    # index in BITree, we dont care about index 0 in BITree\n",
    "    index += 1 \n",
    "    \n",
    "    while (index <= n):\n",
    "        BITree[index] += val\n",
    "        index += (index & (-index))# add the last set bit, \" right and up\" in explanation.\n",
    "    return BITree\n",
    "\n",
    "def constructB(arr,n):\n",
    "    '''n is the length of arr'''\n",
    "    BITree = [0]*(n+1)\n",
    "    \n",
    "    for i in range(n):\n",
    "        ADD(BITree = BITree,n = n, index = i, val = arr[i])\n",
    "    return BITree\n",
    "        \n",
    "# test \n",
    "arr =  [2, 1, 1, 3, 2, 3, 4, 5, 6, 7, 8, 9]\n",
    "BITree = constructB(arr, len(arr))\n",
    "\n",
    "print(\"Sum of elements in arr[0..5] is \" + str(sum_BIT(BITree, 5))) \n",
    "BITree1 = ADD(BITree, len(arr), 5, 6)\n",
    "print(\"Sum of elements in arr[0..5] is \" + str(sum_BIT(BITree1, 5))) \n",
    "\n",
    "        "
   ]
  },
  {
   "cell_type": "markdown",
   "metadata": {},
   "source": [
    "## The following is implemented by Kelleher"
   ]
  },
  {
   "cell_type": "code",
   "execution_count": 17,
   "metadata": {
    "slideshow": {
     "slide_type": "subslide"
    }
   },
   "outputs": [],
   "source": [
    "\n",
    "class FenwickTree(object):\n",
    "    \"\"\"\n",
    "    A Fenwick Tree to represent cumulative frequency tables over\n",
    "    integers. Each index from 1 to max_index initially has a\n",
    "    zero frequency.\n",
    "    This is an implementation of the Fenwick tree (also known as a Binary\n",
    "    Indexed Tree) based on \"A new data structure for cumulative frequency\n",
    "    tables\", Software Practice and Experience, Vol 24, No 3, pp 327 336 Mar\n",
    "    1994. This implementation supports any non-negative frequencies, and the\n",
    "    search procedure always returns the smallest index such that its cumulative\n",
    "    frequency <= f. This search procedure is a slightly modified version of\n",
    "    that presented in Tech Report 110, \"A new data structure for cumulative\n",
    "    frequency tables: an improved frequency-to-symbol algorithm.\" available at\n",
    "    https://www.cs.auckland.ac.nz/~peter-f/FTPfiles/TechRep110.ps\n",
    "    \"\"\"\n",
    "    def __init__(self, max_index):\n",
    "        assert max_index > 0\n",
    "        self.__max_index = max_index\n",
    "        self.__tree = [0 for j in range(max_index + 1)]\n",
    "        # Compute the binary logarithm of max_index\n",
    "        u = self.__max_index\n",
    "        while u != 0:\n",
    "            self.__log_max_index = u\n",
    "            u -= (u & -u)\n",
    "\n",
    "    def get_total(self):\n",
    "        \"\"\"\n",
    "        Returns the total cumulative frequency over all indexes.\n",
    "        \"\"\"\n",
    "        return self.get_cumulative_frequency(self.__max_index)\n",
    "\n",
    "    def increment(self, index, v):\n",
    "        \"\"\"\n",
    "        Increments the frequency of the specified index by the specified\n",
    "        value.\n",
    "        \"\"\"\n",
    "        assert 0 < index <= self.__max_index\n",
    "        j = index\n",
    "        while j <= self.__max_index:\n",
    "            self.__tree[j] += v\n",
    "            j += (j & -j)\n",
    "\n",
    "    def set_value(self, index, v):\n",
    "        \"\"\"\n",
    "        Sets the frequency at the specified index to the specified value.\n",
    "        \"\"\"\n",
    "        f = self.get_frequency(index)\n",
    "        self.increment(index, v - f)\n",
    "\n",
    "    def get_cumulative_frequency(self, index):\n",
    "        \"\"\"\n",
    "        Returns the cumulative frequency of the specified index.\n",
    "        \"\"\"\n",
    "        assert 0 < index <= self.__max_index\n",
    "        j = index\n",
    "        s = 0\n",
    "        while j > 0:\n",
    "            s += self.__tree[j]\n",
    "            j -= (j & -j)\n",
    "        return s\n",
    "\n",
    "    def get_frequency(self, index):\n",
    "        \"\"\"\n",
    "        Returns the frequency of the specified index.\n",
    "        \"\"\"\n",
    "        assert 0 < index <= self.__max_index\n",
    "        j = index\n",
    "        v = self.__tree[j]\n",
    "        p = j & (j - 1)\n",
    "        j -= 1\n",
    "        while p != j:\n",
    "            v -= self.__tree[j]\n",
    "            j = j & (j - 1)\n",
    "        return v\n",
    "\n",
    "    def find(self, v):\n",
    "        \"\"\"\n",
    "        Returns the smallest index with cumulative sum >= v.\n",
    "        \"\"\"\n",
    "        j = 0\n",
    "        s = v\n",
    "        half = self.__log_max_index\n",
    "        while half > 0:\n",
    "            # Skip non-existant entries\n",
    "            while j + half > self.__max_index:\n",
    "                half >>= 1\n",
    "            k = j + half\n",
    "            if s > self.__tree[k]:\n",
    "                j = k\n",
    "                s -= self.__tree[j]\n",
    "            half >>= 1\n",
    "        return j + 1\n",
    "\n"
   ]
  },
  {
   "cell_type": "code",
   "execution_count": 18,
   "metadata": {
    "slideshow": {
     "slide_type": "fragment"
    }
   },
   "outputs": [
    {
     "data": {
      "text/plain": [
       "<__main__.FenwickTree at 0x104e8c5c0>"
      ]
     },
     "execution_count": 18,
     "metadata": {},
     "output_type": "execute_result"
    }
   ],
   "source": [
    "f = FenwickTree(1)\n",
    "\n",
    "f"
   ]
  },
  {
   "cell_type": "code",
   "execution_count": null,
   "metadata": {},
   "outputs": [],
   "source": []
  }
 ],
 "metadata": {
  "kernelspec": {
   "display_name": "Python 3",
   "language": "python3",
   "name": "python3"
  },
  "language_info": {
   "codemirror_mode": {
    "name": "ipython",
    "version": 3
   },
   "file_extension": ".py",
   "mimetype": "text/x-python",
   "name": "python",
   "nbconvert_exporter": "python",
   "pygments_lexer": "ipython3",
   "version": "3.6.4"
  }
 },
 "nbformat": 4,
 "nbformat_minor": 2
}
