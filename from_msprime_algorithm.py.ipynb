{
 "cells": [
  {
   "cell_type": "code",
   "execution_count": 1,
   "metadata": {
    "slideshow": {
     "slide_type": "slide"
    }
   },
   "outputs": [],
   "source": [
    "class Segment(object):\n",
    "    \"\"\"\n",
    "    A class representing a single segment. Each segment has a left\n",
    "    and right, denoting the loci over which it spans, a node and a\n",
    "    next, giving the next in the chain.\n",
    "    \"\"\"\n",
    "    def __init__(self, index):\n",
    "        self.left = None\n",
    "        self.right = None\n",
    "        self.node = None\n",
    "        self.prev = None\n",
    "        self.next = None\n",
    "        self.population = None\n",
    "        self.index = index\n",
    "\n",
    "    def __str__(self):\n",
    "        s = \"({0}:{1}-{2}->{3}: prev={4} next={5})\".format(\n",
    "            self.index, self.left, self.right, self.node, repr(self.prev),\n",
    "            repr(self.next))\n",
    "        print(\"reprt is %s\" %s)\n",
    "        return s\n",
    "    #Q# what is this for??\n",
    "    def __lt__(self, other):\n",
    "        return ((self.left, self.right, self.population, self.node)\n",
    "                < (other.left, other.right, other.population, self.node))"
   ]
  },
  {
   "cell_type": "code",
   "execution_count": null,
   "metadata": {
    "slideshow": {
     "slide_type": "slide"
    }
   },
   "outputs": [],
   "source": [
    "s = Segment(0)\n",
    "\n",
    "s.left=0 ;s.right = 3; s.node = 1; s.population = 0 ;s.prev = None; s.next = 0\n",
    "\n",
    "s1 = Segment(0)\n",
    "s1.left=5 ;s1.right = 10; s1.node = 1; s1.population = 0 ;s1.prev = None; s1.next = 1\n",
    "# s1= Segment(2)\n",
    "s.__str__()\n",
    "s1.__str__()\n",
    "s.__lt__(s1)"
   ]
  },
  {
   "cell_type": "markdown",
   "metadata": {},
   "source": [
    "# Fenwick algorithm  or  Binary Indexed Tree\n",
    "\n",
    "Great explanation  found at: \n",
    "https://www.geeksforgeeks.org/binary-indexed-tree-or-fenwick-tree-2/\n",
    "\n",
    "Youtube video:\n",
    "https://www.youtube.com/watch?v=v_wj_mOAlig\n"
   ]
  },
  {
   "cell_type": "code",
   "execution_count": 41,
   "metadata": {},
   "outputs": [
    {
     "name": "stdout",
     "output_type": "stream",
     "text": [
      "Sum of elements in arr[0..5] is 12\n",
      "Sum of elements in arr[0..5] is 6\n"
     ]
    }
   ],
   "source": [
    "# my implementation of Binary indexed tree: \n",
    "\n",
    "def sum_BIT(BITree, index):\n",
    "    \n",
    "    '''\n",
    "    Returns sum of arr[0..index]. This function assumes \n",
    "        that the array is preprocessed and partial sums of \n",
    "        array elements are stored in BITree[].\n",
    "    '''\n",
    "    #index in BIT is 1 more than array , we dont care about index 0 in BITree    \n",
    "    index +=1\n",
    "    s=0\n",
    "    #Traverse ancestors of BITree[index]\n",
    "    while (index>0):\n",
    "        s += BITree[index]\n",
    "        index -= (index & (-index))#  remove the last set bit, \"up and left\" in explanation.\n",
    "    return s\n",
    "\n",
    "def ADD(BITree,n, index, val):\n",
    "    '''\n",
    "    add val to index and update the BITree , n is the length of the array\n",
    "    '''\n",
    "    # index in BITree, we dont care about index 0 in BITree\n",
    "    index += 1 \n",
    "    # Traverse all ancestors and add 'val'\n",
    "    while (index <= n):\n",
    "        BITree[index] += val\n",
    "        index += (index & (-index))# add the last set bit, \" right and up\" in explanation.\n",
    "    return BITree\n",
    "\n",
    "def constructB(arr,n):\n",
    "    '''n is the length of arr'''\n",
    "    # Create and initialize BITree[] as 0\n",
    "    BITree = [0]*(n+1)  \n",
    "    for i in range(n):\n",
    "        ADD(BITree = BITree,n = n, index = i, val = arr[i])\n",
    "    return BITree\n",
    "        \n",
    "# test \n",
    "arr =  [2, 1, 1, 3, 2, 3, 4, 5, 6, 7, 8, 9]\n",
    "BITree = constructB(arr, len(arr))\n",
    "\n",
    "print(\"Sum of elements in arr[0..5] is \" + str(sum_BIT(BITree, 5))) \n",
    "BITree1 = ADD(BITree, len(arr), 5, 6)# add value 6 to index 5\n",
    "print(\"Sum of elements in arr[0..5] is \" + str(sum_BIT(BITree1, 5))) \n",
    "\n",
    "        "
   ]
  },
  {
   "cell_type": "markdown",
   "metadata": {},
   "source": [
    "## The following is implemented by Kelleher"
   ]
  },
  {
   "cell_type": "code",
   "execution_count": 17,
   "metadata": {
    "slideshow": {
     "slide_type": "subslide"
    }
   },
   "outputs": [],
   "source": [
    "\n",
    "class FenwickTree(object):\n",
    "    \"\"\"\n",
    "    A Fenwick Tree to represent cumulative frequency tables over\n",
    "    integers. Each index from 1 to max_index initially has a\n",
    "    zero frequency.\n",
    "    This is an implementation of the Fenwick tree (also known as a Binary\n",
    "    Indexed Tree) based on \"A new data structure for cumulative frequency\n",
    "    tables\", Software Practice and Experience, Vol 24, No 3, pp 327 336 Mar\n",
    "    1994. This implementation supports any non-negative frequencies, and the\n",
    "    search procedure always returns the smallest index such that its cumulative\n",
    "    frequency <= f. This search procedure is a slightly modified version of\n",
    "    that presented in Tech Report 110, \"A new data structure for cumulative\n",
    "    frequency tables: an improved frequency-to-symbol algorithm.\" available at\n",
    "    https://www.cs.auckland.ac.nz/~peter-f/FTPfiles/TechRep110.ps\n",
    "    \"\"\"\n",
    "    def __init__(self, max_index):\n",
    "        assert max_index > 0\n",
    "        self.__max_index = max_index\n",
    "        self.__tree = [0 for j in range(max_index + 1)]## all zero, the index is one more than the arr\n",
    "        # Compute the binary logarithm of max_index\n",
    "        u = self.__max_index\n",
    "        while u != 0:\n",
    "            self.__log_max_index = u\n",
    "            u -= (u & -u)\n",
    "            \n",
    "    def get_cumulative_frequency(self, index): ## this is equivalent as sumBIT()\n",
    "        \"\"\"\n",
    "        Returns the cumulative frequency of the specified index.\n",
    "        \"\"\"\n",
    "        assert 0 < index <= self.__max_index\n",
    "        j = index\n",
    "        s = 0\n",
    "        while j > 0:\n",
    "            s += self.__tree[j]\n",
    "            j -= (j & -j)## remove the last set bit\n",
    "        return s\n",
    "    def get_total(self):\n",
    "        \"\"\"\n",
    "        Returns the total cumulative frequency over all indexes.\n",
    "        \"\"\"\n",
    "        return self.get_cumulative_frequency(self.__max_index)\n",
    "\n",
    "    def increment(self, index, v):## equivalent to my ADD()\n",
    "        \"\"\"\n",
    "        Increments the frequency of the specified index by the specified\n",
    "        value.\n",
    "        \"\"\"\n",
    "        assert 0 < index <= self.__max_index\n",
    "        j = index\n",
    "        while j <= self.__max_index:\n",
    "            self.__tree[j] += v\n",
    "            j += (j & -j)  ## add the last set bit \n",
    "\n",
    "    def set_value(self, index, v):\n",
    "        \"\"\"\n",
    "        Sets the frequency at the specified index to the specified value.\n",
    "        \"\"\"\n",
    "        f = self.get_frequency(index)\n",
    "        self.increment(index, v - f)\n",
    "\n",
    "\n",
    "\n",
    "    def get_frequency(self, index):\n",
    "        \"\"\"\n",
    "        Returns the frequency of the specified index.\n",
    "        \"\"\"\n",
    "        assert 0 < index <= self.__max_index\n",
    "        j = index\n",
    "        v = self.__tree[j]\n",
    "        p = j & (j - 1)# \n",
    "        j -= 1\n",
    "        while p != j:\n",
    "            v -= self.__tree[j]\n",
    "            j = j & (j - 1)## amazing, exactly gives you the number of links  of segment with idex =index\n",
    "        return v\n",
    "\n",
    "    def find(self, v):\n",
    "        \"\"\"\n",
    "        Returns the smallest index with cumulative sum >= v.\n",
    "        \"\"\"\n",
    "        j = 0\n",
    "        s = v\n",
    "        half = self.__log_max_index\n",
    "        while half > 0:\n",
    "            # Skip non-existant entries\n",
    "            while j + half > self.__max_index:\n",
    "                half >>= 1\n",
    "            k = j + half\n",
    "            if s > self.__tree[k]:\n",
    "                j = k\n",
    "                s -= self.__tree[j]\n",
    "            half >>= 1\n",
    "        return j + 1\n",
    "\n"
   ]
  },
  {
   "cell_type": "code",
   "execution_count": 36,
   "metadata": {
    "slideshow": {
     "slide_type": "fragment"
    }
   },
   "outputs": [],
   "source": [
    "def twos_complement(input_value, num_bits):\n",
    "\t'''Calculates a two's complement integer from the given input value's bits'''\n",
    "\tmask = 2**(num_bits - 1)\n",
    "\treturn -(input_value & mask) + (input_value & ~mask)"
   ]
  },
  {
   "cell_type": "code",
   "execution_count": 40,
   "metadata": {},
   "outputs": [
    {
     "data": {
      "text/plain": [
       "9"
      ]
     },
     "execution_count": 40,
     "metadata": {},
     "output_type": "execute_result"
    }
   ],
   "source": [
    "twos_complement(9, 8)"
   ]
  },
  {
   "cell_type": "code",
   "execution_count": null,
   "metadata": {},
   "outputs": [],
   "source": []
  }
 ],
 "metadata": {
  "kernelspec": {
   "display_name": "Python 3",
   "language": "python3",
   "name": "python3"
  },
  "language_info": {
   "codemirror_mode": {
    "name": "ipython",
    "version": 3
   },
   "file_extension": ".py",
   "mimetype": "text/x-python",
   "name": "python",
   "nbconvert_exporter": "python",
   "pygments_lexer": "ipython3",
   "version": "3.6.4"
  }
 },
 "nbformat": 4,
 "nbformat_minor": 2
}
