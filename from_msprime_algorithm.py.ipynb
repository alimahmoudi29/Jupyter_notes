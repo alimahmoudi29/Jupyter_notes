{
 "cells": [
  {
   "cell_type": "code",
   "execution_count": 1,
   "metadata": {},
   "outputs": [],
   "source": [
    "class Segment(object):\n",
    "    \"\"\"\n",
    "    A class representing a single segment. Each segment has a left\n",
    "    and right, denoting the loci over which it spans, a node and a\n",
    "    next, giving the next in the chain.\n",
    "    \"\"\"\n",
    "    def __init__(self, index):\n",
    "        self.left = None\n",
    "        self.right = None\n",
    "        self.node = None\n",
    "        self.prev = None\n",
    "        self.next = None\n",
    "        self.population = None\n",
    "        self.index = index\n",
    "\n",
    "    def __str__(self):\n",
    "        s = \"({0}:{1}-{2}->{3}: prev={4} next={5})\".format(\n",
    "            self.index, self.left, self.right, self.node, repr(self.prev),\n",
    "            repr(self.next))\n",
    "        print(\"reprt is %s\" %s)\n",
    "        return s\n",
    "    #Q# what is this for??\n",
    "    def __lt__(self, other):\n",
    "        return ((self.left, self.right, self.population, self.node)\n",
    "                < (other.left, other.right, other.population, self.node))"
   ]
  },
  {
   "cell_type": "code",
   "execution_count": 2,
   "metadata": {},
   "outputs": [
    {
     "name": "stdout",
     "output_type": "stream",
     "text": [
      "reprt is (0:0-3->1: prev=None next=0)\n",
      "reprt is (0:5-10->1: prev=None next=1)\n"
     ]
    },
    {
     "data": {
      "text/plain": [
       "True"
      ]
     },
     "execution_count": 2,
     "metadata": {},
     "output_type": "execute_result"
    }
   ],
   "source": [
    "s = Segment(0)\n",
    "\n",
    "s.left=0 ;s.right = 3; s.node = 1; s.population = 0 ;s.prev = None; s.next = 0\n",
    "\n",
    "s1 = Segment(0)\n",
    "s1.left=5 ;s1.right = 10; s1.node = 1; s1.population = 0 ;s1.prev = None; s1.next = 1\n",
    "\n",
    "\n",
    "# s1= Segment(2)\n",
    "s.__str__()\n",
    "s1.__str__()\n",
    "s.__lt__(s1)"
   ]
  },
  {
   "cell_type": "code",
   "execution_count": 4,
   "metadata": {},
   "outputs": [
    {
     "data": {
      "text/plain": [
       "5"
      ]
     },
     "execution_count": 4,
     "metadata": {},
     "output_type": "execute_result"
    }
   ],
   "source": [
    "\n",
    "class FenwickTree(object):\n",
    "    \"\"\"\n",
    "    A Fenwick Tree to represent cumulative frequency tables over\n",
    "    integers. Each index from 1 to max_index initially has a\n",
    "    zero frequency.\n",
    "    This is an implementation of the Fenwick tree (also known as a Binary\n",
    "    Indexed Tree) based on \"A new data structure for cumulative frequency\n",
    "    tables\", Software Practice and Experience, Vol 24, No 3, pp 327 336 Mar\n",
    "    1994. This implementation supports any non-negative frequencies, and the\n",
    "    search procedure always returns the smallest index such that its cumulative\n",
    "    frequency <= f. This search procedure is a slightly modified version of\n",
    "    that presented in Tech Report 110, \"A new data structure for cumulative\n",
    "    frequency tables: an improved frequency-to-symbol algorithm.\" available at\n",
    "    https://www.cs.auckland.ac.nz/~peter-f/FTPfiles/TechRep110.ps\n",
    "    \"\"\"\n",
    "    def __init__(self, max_index):\n",
    "        assert max_index > 0\n",
    "        self.__max_index = max_index\n",
    "        self.__tree = [0 for j in range(max_index + 1)]\n",
    "        # Compute the binary logarithm of max_index\n",
    "        u = self.__max_index\n",
    "        while u != 0:\n",
    "            self.__log_max_index = u\n",
    "            u -= (u & -u)\n",
    "\n",
    "    def get_total(self):\n",
    "        \"\"\"\n",
    "        Returns the total cumulative frequency over all indexes.\n",
    "        \"\"\"\n",
    "        return self.get_cumulative_frequency(self.__max_index)\n",
    "\n",
    "    def increment(self, index, v):\n",
    "        \"\"\"\n",
    "        Increments the frequency of the specified index by the specified\n",
    "        value.\n",
    "        \"\"\"\n",
    "        assert 0 < index <= self.__max_index\n",
    "        j = index\n",
    "        while j <= self.__max_index:\n",
    "            self.__tree[j] += v\n",
    "            j += (j & -j)\n",
    "\n",
    "    def set_value(self, index, v):\n",
    "        \"\"\"\n",
    "        Sets the frequency at the specified index to the specified value.\n",
    "        \"\"\"\n",
    "        f = self.get_frequency(index)\n",
    "        self.increment(index, v - f)\n",
    "\n",
    "    def get_cumulative_frequency(self, index):\n",
    "        \"\"\"\n",
    "        Returns the cumulative frequency of the specified index.\n",
    "        \"\"\"\n",
    "        assert 0 < index <= self.__max_index\n",
    "        j = index\n",
    "        s = 0\n",
    "        while j > 0:\n",
    "            s += self.__tree[j]\n",
    "            j -= (j & -j)\n",
    "        return s\n",
    "\n",
    "    def get_frequency(self, index):\n",
    "        \"\"\"\n",
    "        Returns the frequency of the specified index.\n",
    "        \"\"\"\n",
    "        assert 0 < index <= self.__max_index\n",
    "        j = index\n",
    "        v = self.__tree[j]\n",
    "        p = j & (j - 1)\n",
    "        j -= 1\n",
    "        while p != j:\n",
    "            v -= self.__tree[j]\n",
    "            j = j & (j - 1)\n",
    "        return v\n",
    "\n",
    "    def find(self, v):\n",
    "        \"\"\"\n",
    "        Returns the smallest index with cumulative sum >= v.\n",
    "        \"\"\"\n",
    "        j = 0\n",
    "        s = v\n",
    "        half = self.__log_max_index\n",
    "        while half > 0:\n",
    "            # Skip non-existant entries\n",
    "            while j + half > self.__max_index:\n",
    "                half >>= 1\n",
    "            k = j + half\n",
    "            if s > self.__tree[k]:\n",
    "                j = k\n",
    "                s -= self.__tree[j]\n",
    "            half >>= 1\n",
    "        return j + 1\n",
    "\n"
   ]
  },
  {
   "cell_type": "markdown",
   "metadata": {},
   "source": []
  }
 ],
 "metadata": {
  "celltoolbar": "Slideshow",
  "kernelspec": {
   "display_name": "Python 3",
   "language": "python3",
   "name": "python3"
  },
  "language_info": {
   "codemirror_mode": {
    "name": "ipython",
    "version": 3
   },
   "file_extension": ".py",
   "mimetype": "text/x-python",
   "name": "python",
   "nbconvert_exporter": "python",
   "pygments_lexer": "ipython3",
   "version": "3.6.4"
  }
 },
 "nbformat": 4,
 "nbformat_minor": 2
}
