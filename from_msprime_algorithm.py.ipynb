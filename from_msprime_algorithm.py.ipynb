{
 "cells": [
  {
   "cell_type": "code",
   "execution_count": 6,
   "metadata": {},
   "outputs": [],
   "source": [
    "class Segment(object):\n",
    "    \"\"\"\n",
    "    A class representing a single segment. Each segment has a left\n",
    "    and right, denoting the loci over which it spans, a node and a\n",
    "    next, giving the next in the chain.\n",
    "    \"\"\"\n",
    "    def __init__(self, index):\n",
    "        self.left = None\n",
    "        self.right = None\n",
    "        self.node = None\n",
    "        self.prev = None\n",
    "        self.next = None\n",
    "        self.population = None\n",
    "        self.index = index\n",
    "\n",
    "    def __str__(self):\n",
    "        s = \"({0}:{1}-{2}->{3}: prev={4} next={5})\".format(\n",
    "            self.index, self.left, self.right, self.node, repr(self.prev),\n",
    "            repr(self.next))\n",
    "        print(\"reprt is %s\" %s)\n",
    "        return s\n",
    "\n",
    "    def __lt__(self, other):\n",
    "        return ((self.left, self.right, self.population, self.node)\n",
    "                < (other.left, other.right, other.population, self.node))"
   ]
  },
  {
   "cell_type": "code",
   "execution_count": 77,
   "metadata": {},
   "outputs": [
    {
     "name": "stdout",
     "output_type": "stream",
     "text": [
      "reprt is (0:0-3->1: prev=None next=0)\n",
      "reprt is (0:5-10->1: prev=None next=1)\n"
     ]
    },
    {
     "data": {
      "text/plain": [
       "True"
      ]
     },
     "execution_count": 77,
     "metadata": {},
     "output_type": "execute_result"
    }
   ],
   "source": [
    "s = Segment(0)\n",
    "\n",
    "s.left=0 ;s.right = 3; s.node = 1; s.population = 0 ;s.prev = None; s.next = 0\n",
    "\n",
    "s1 = Segment(0)\n",
    "s1.left=5 ;s1.right = 10; s1.node = 1; s1.population = 0 ;s1.prev = None; s1.next = 1\n",
    "\n",
    "\n",
    "# s1= Segment(2)\n",
    "s.__str__()\n",
    "s1.__str__()\n",
    "s.__lt__(s1)"
   ]
  },
  {
   "cell_type": "code",
   "execution_count": 117,
   "metadata": {},
   "outputs": [
    {
     "data": {
      "text/plain": [
       "5"
      ]
     },
     "execution_count": 117,
     "metadata": {},
     "output_type": "execute_result"
    }
   ],
   "source": [
    "u=5\n",
    "u & -9\n",
    "\n"
   ]
  },
  {
   "cell_type": "code",
   "execution_count": null,
   "metadata": {},
   "outputs": [],
   "source": []
  }
 ],
 "metadata": {
  "kernelspec": {
   "display_name": "Python 3",
   "language": "python3",
   "name": "python3"
  },
  "language_info": {
   "codemirror_mode": {
    "name": "ipython",
    "version": 3
   },
   "file_extension": ".py",
   "mimetype": "text/x-python",
   "name": "python",
   "nbconvert_exporter": "python",
   "pygments_lexer": "ipython3",
   "version": "3.6.4"
  }
 },
 "nbformat": 4,
 "nbformat_minor": 2
}
